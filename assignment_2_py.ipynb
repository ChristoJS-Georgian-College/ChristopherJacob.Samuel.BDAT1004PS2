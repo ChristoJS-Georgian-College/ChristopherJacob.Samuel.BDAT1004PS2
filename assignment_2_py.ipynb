{
 "cells": [
  {
   "cell_type": "markdown",
   "metadata": {},
   "source": [
    "### **Q1.**"
   ]
  },
  {
   "cell_type": "code",
   "execution_count": 72,
   "metadata": {},
   "outputs": [
    {
     "data": {
      "text/plain": [
       "6"
      ]
     },
     "execution_count": 72,
     "metadata": {},
     "output_type": "execute_result"
    }
   ],
   "source": [
    "a = 0\n",
    "\n",
    "def b():\n",
    "    global a\n",
    "    a = c(a)\n",
    "\n",
    "def c(a):\n",
    "    return a + 2\n",
    "\n",
    "b()\n",
    "b()\n",
    "b()\n",
    "\n",
    "a"
   ]
  },
  {
   "cell_type": "markdown",
   "metadata": {},
   "source": [
    "'a' will be 6.\n",
    "\n",
    "Inside the function 'b' we have called 'a' as global. So each time we update 'a' it will be updated throughout the script.\n",
    "\n",
    "The first time we call 'b', it also calls the function 'c' and then returns that value incremented by 2, which is then stored in a. Since we called 'a' globally it will 'a' will be updated throughout. Here 'a' will start with 0, and after we call 'b', 'a' will become 2.\n",
    "\n",
    "Likewise when we call the function 'b' 2 times more, 'a' will updated twice. In the second calling of 'b', 'a' will become 4, and in the third calling 'a' will become 6."
   ]
  },
  {
   "cell_type": "markdown",
   "metadata": {},
   "source": [
    "### **Q2.**"
   ]
  },
  {
   "cell_type": "code",
   "execution_count": 19,
   "metadata": {},
   "outputs": [],
   "source": [
    "def fileLength(fileName):\n",
    "    \n",
    "    try:\n",
    "        # Checking if we there is such file\n",
    "        file_name = open(fileName, \"r\")\n",
    "        file_contents = file_name.read()\n",
    "        \n",
    "        '''\n",
    "        # Code to see the contents of the file\n",
    "\n",
    "        print(f\"Contents of {file_name}:\")\n",
    "        for x in file_contents:\n",
    "            print(x)\n",
    "        '''\n",
    "\n",
    "        print(f\"The length of \\\"{fileName}\\\" is: {len(file_contents)}\")\n",
    "\n",
    "    except FileNotFoundError:\n",
    "        print(f\"File \\\"{fileName}\\\" is not found\")"
   ]
  },
  {
   "cell_type": "code",
   "execution_count": 20,
   "metadata": {},
   "outputs": [
    {
     "name": "stdout",
     "output_type": "stream",
     "text": [
      "The length of \"midterm.py\" is: 24\n",
      "File \"idterm.py\" is not found\n"
     ]
    }
   ],
   "source": [
    "fileLength(\"midterm.py\")\n",
    "fileLength(\"idterm.py\")"
   ]
  },
  {
   "cell_type": "markdown",
   "metadata": {},
   "source": [
    "### **Q3.**"
   ]
  },
  {
   "cell_type": "code",
   "execution_count": 35,
   "metadata": {},
   "outputs": [],
   "source": [
    "# Class Marsupial\n",
    "\n",
    "class Marsupial:\n",
    "    \n",
    "    def __init__(self):\n",
    "        self.items_of_pouch = []\n",
    "    \n",
    "    def put_in_pouch(self, item_to_add):\n",
    "        \n",
    "        if type(item_to_add) == str:\n",
    "            self.items_of_pouch.append(item_to_add)\n",
    "        else:\n",
    "            print(f\"Cannot add {item_to_add} to the pouch\")\n",
    "    \n",
    "    def pouch_contents(self):\n",
    "\n",
    "        print(\"\\nYou have the following items in the house: \")\n",
    "        \n",
    "        print(self.items_of_pouch)"
   ]
  },
  {
   "cell_type": "code",
   "execution_count": 36,
   "metadata": {},
   "outputs": [
    {
     "name": "stdout",
     "output_type": "stream",
     "text": [
      "Cannot add 13 to the pouch\n",
      "\n",
      "You have the following items in the house: \n",
      "['doll', 'firetruck', 'kitten']\n"
     ]
    }
   ],
   "source": [
    "m = Marsupial()\n",
    "m.put_in_pouch('doll')\n",
    "m.put_in_pouch('firetruck')\n",
    "m.put_in_pouch('kitten')\n",
    "m.put_in_pouch(13)\n",
    "m.pouch_contents()"
   ]
  },
  {
   "cell_type": "code",
   "execution_count": 43,
   "metadata": {},
   "outputs": [],
   "source": [
    "class Kangaroo(Marsupial):\n",
    "    \n",
    "    def __init__(self, x_coordinate, y_coordinate):\n",
    "        self.items_of_pouch = []\n",
    "        self.x_axis = x_coordinate\n",
    "        self.y_axis = y_coordinate\n",
    "    \n",
    "    def jump(self, dx, dy):\n",
    "\n",
    "        if type(dx) == int and type(dy) == int:\n",
    "            self.x_axis += dx\n",
    "            self.y_axis += dy\n",
    "        else:\n",
    "            print(\"Incorrect inputs\")\n",
    "    \n",
    "    def __str__(self):\n",
    "        return f\"I am a Kangaroo located at coordinates ({self.x_axis}, {self.y_axis})\""
   ]
  },
  {
   "cell_type": "code",
   "execution_count": 46,
   "metadata": {},
   "outputs": [
    {
     "name": "stdout",
     "output_type": "stream",
     "text": [
      "I am a Kangaroo located at coordinates (0, 0)\n",
      "\n",
      "You have the following items in the house: \n",
      "['doll', 'firetruck', 'kitten']\n",
      "\n",
      " I am a Kangaroo located at coordinates (3, 0)\n"
     ]
    }
   ],
   "source": [
    "k = Kangaroo(0,0)\n",
    "\n",
    "print(k)\n",
    "\n",
    "k.put_in_pouch('doll')\n",
    "k.put_in_pouch('firetruck')\n",
    "k.put_in_pouch('kitten')\n",
    "\n",
    "k.pouch_contents()\n",
    "\n",
    "k.jump(1,0)\n",
    "k.jump(1,0)\n",
    "k.jump(1,0)\n",
    "\n",
    "print(\"\\n\",k)"
   ]
  },
  {
   "cell_type": "markdown",
   "metadata": {},
   "source": [
    "### **Q4.**"
   ]
  },
  {
   "cell_type": "code",
   "execution_count": 8,
   "metadata": {},
   "outputs": [],
   "source": [
    "def collatx(user_input):\n",
    "    \n",
    "    user_input = float(user_input)\n",
    "    \n",
    "    if user_input > 1:\n",
    "        if user_input % 2 == 1:\n",
    "            # if odd\n",
    "            value = (3 * user_input) + 1\n",
    "            print(value)\n",
    "            collatx(value)\n",
    "        \n",
    "        elif user_input % 2 == 0:\n",
    "            # if even\n",
    "            value = user_input / 2\n",
    "            if value > 1:  # to avoid repetitions of printing 1\n",
    "                print(value)\n",
    "            collatx(value)\n",
    "\n",
    "    if user_input == 1 or user_input == 0:\n",
    "        print(user_input)"
   ]
  },
  {
   "cell_type": "code",
   "execution_count": 9,
   "metadata": {},
   "outputs": [
    {
     "name": "stdout",
     "output_type": "stream",
     "text": [
      "1.0\n",
      "5.0\n",
      "16.0\n",
      "8.0\n",
      "4.0\n",
      "2.0\n",
      "1.0\n"
     ]
    }
   ],
   "source": [
    "collatx(1)\n",
    "collatx(10)"
   ]
  },
  {
   "cell_type": "markdown",
   "metadata": {},
   "source": [
    "### **Q5.**"
   ]
  },
  {
   "cell_type": "code",
   "execution_count": 17,
   "metadata": {},
   "outputs": [],
   "source": [
    "def binary(number):\n",
    "    if number >= 0 and type(number) == int:\n",
    "        print(f\"Binary representation of {number} is: {number:b}\")\n",
    "    else:\n",
    "        print(f\"{number} is an invalid input\")"
   ]
  },
  {
   "cell_type": "code",
   "execution_count": 18,
   "metadata": {},
   "outputs": [
    {
     "name": "stdout",
     "output_type": "stream",
     "text": [
      "Binary representation of 0 is: 0\n",
      "Binary representation of 1 is: 1\n",
      "Binary representation of 3 is: 11\n",
      "Binary representation of 9 is: 1001\n"
     ]
    }
   ],
   "source": [
    "binary(0)\n",
    "binary(1)\n",
    "binary(3)\n",
    "binary(9)"
   ]
  },
  {
   "cell_type": "markdown",
   "metadata": {},
   "source": [
    "### **Q6.**"
   ]
  },
  {
   "cell_type": "code",
   "execution_count": null,
   "metadata": {},
   "outputs": [],
   "source": [
    "%pip install bs4\n",
    "%pip install lxml"
   ]
  },
  {
   "cell_type": "code",
   "execution_count": 4,
   "metadata": {},
   "outputs": [
    {
     "name": "stdout",
     "output_type": "stream",
     "text": [
      "W3C Mission\n",
      "    Principles\n"
     ]
    }
   ],
   "source": [
    "from bs4 import BeautifulSoup\n",
    "\n",
    "with open('w3c.html', 'r') as f:\n",
    "\n",
    "    contents = f.read()\n",
    "\n",
    "    soup = BeautifulSoup(contents, 'lxml')\n",
    "\n",
    "    h1_header = soup.h1\n",
    "    # 0 Indentation\n",
    "    for value in h1_header:\n",
    "        print(value)\n",
    "\n",
    "    h2_header = soup.h2\n",
    "    # 1 Indentation\n",
    "    for value in h2_header:\n",
    "        print(\"    \", value, sep=\"\")"
   ]
  },
  {
   "cell_type": "markdown",
   "metadata": {},
   "source": [
    "### **Q7.**"
   ]
  },
  {
   "cell_type": "code",
   "execution_count": null,
   "metadata": {},
   "outputs": [],
   "source": [
    "from urllib.parse import urljoin\n",
    "from urllib.request import urlopen\n",
    "from html.parser import HTMLParser"
   ]
  },
  {
   "cell_type": "code",
   "execution_count": 2,
   "metadata": {},
   "outputs": [],
   "source": [
    "class My_Collector(HTMLParser):\n",
    "    # collects hyperlink URLs into one list\n",
    "\n",
    "    def __init__(self, url):\n",
    "        # initialize parser, url, and one list\n",
    "        HTMLParser.__init__(self)\n",
    "        self.url = url\n",
    "        self.links = []\n",
    "\n",
    "    def handle_starttag(self, tag, attributes):\n",
    "        # collects hyperlink URLs in their absolute format\n",
    "        if tag == \"a\":\n",
    "            for attribute in attributes:\n",
    "\n",
    "                # construct absolute URL\n",
    "                if attribute[0] == \"href\":\n",
    "                    absolute_URL = urljoin(self.url, attribute[1])\n",
    "\n",
    "                    # collect HTTP URLs\n",
    "                    if absolute_URL[:4] == \"http\":\n",
    "                        self.links.append(absolute_URL)\n",
    "\n",
    "    def get_links(self):\n",
    "        # returns hyperlinks URLs in their absolute format\n",
    "        return self.links"
   ]
  },
  {
   "cell_type": "code",
   "execution_count": 3,
   "metadata": {},
   "outputs": [
    {
     "name": "stdout",
     "output_type": "stream",
     "text": [
      "https://reed.cs.depaul.edu/index.html\n",
      " https://www.cdm.depaul.edu\n",
      "Error with URL: https://www.cdm.depaul.edu\n",
      " https://reed.cs.depaul.edu/index.html\n",
      " https://reed.cs.depaul.edu/contact.html\n",
      "  https://www.cdm.depaul.edu\n",
      "  https://reed.cs.depaul.edu/index.html\n",
      "  https://reed.cs.depaul.edu/contact.html\n",
      "  https://fpl.cs.depaul.edu/\n",
      " https://reed.cs.depaul.edu/rjagadeesan/\n",
      "Error with URL: https://reed.cs.depaul.edu/rjagadeesan/\n",
      " https://reed.cs.depaul.edu/wmarrero/\n",
      "  http://www.cdm.depaul.edu/\n",
      "  http://www.depaul.edu/\n",
      "  https://my.cdm.depaul.edu/authenticate/login.asp?section=people&title=appointment&urlahead=apt_making/makeApts\n",
      "  http://www.cs.cmu.edu/~sef/Orig-Smiley.htm\n",
      " https://reed.cs.depaul.edu/cpitcher/\n",
      "  http://www.cdm.depaul.edu\n",
      "  https://reed.cs.depaul.edu/cpitcher/index.html\n",
      "  https://reed.cs.depaul.edu/cpitcher/research.html\n",
      "  https://reed.cs.depaul.edu/cpitcher/publications.html\n",
      "  https://reed.cs.depaul.edu/cpitcher/teaching.html\n",
      "  https://reed.cs.depaul.edu/cpitcher/advising.html\n",
      "  https://reed.cs.depaul.edu/cpitcher/contact.html\n",
      "  http://www.cdm.depaul.edu/about/Pages/School-of-Computing.aspx\n",
      "  http://www.cdm.depaul.edu\n",
      "  http://www.depaul.edu\n",
      "  https://reed.cs.depaul.edu/\n",
      "  https://www.cdm.depaul.edu/academics/pages/courseinfo.aspx?Subject=CSC&CatalogNbr=299\n",
      "  https://reed.cs.depaul.edu/cpitcher/courses/csc299\n",
      "  https://www.cdm.depaul.edu/academics/pages/courseinfo.aspx?Subject=CSC&CatalogNbr=347\n",
      "  https://reed.cs.depaul.edu/cpitcher/courses/csc347\n",
      " https://reed.cs.depaul.edu/jriely/\n",
      "  http://www.cdm.depaul.edu/about/Pages/People/facultyinfo.aspx?fid=109\n",
      "  http://www.cdm.depaul.edu/about/Pages/School-of-Computing.aspx\n",
      "  http://www.depaul.edu\n",
      "  http://www.depaul.edu/campus-maps/Pages/default.aspx?campus=loop\n",
      "  http://www.google.com/maps/?q=243+S.+Wabash+Ave.+Chicago+IL+60604\n",
      "  https://reed.cs.depaul.edu/jriely/images/headshot2015.jpg\n",
      "  https://reed.cs.depaul.edu/jriely/papers/index.html\n",
      "  https://orcid.org/0000-0002-8731-1463\n",
      "  http://www.informatik.uni-trier.de/~ley/db/indices/a-tree/r/Riely:James.html\n",
      "  http://scholar.google.com/citations?user=P_76K3wAAAAJ\n",
      "  https://www.semanticscholar.org/author/James-Riely/1732817\n",
      "  http://www.researchgate.net/profile/James_Riely\n",
      "  https://www.scopus.com/authid/detail.uri?authorId=6602227457\n",
      "  http://www.nsf.gov/awardsearch/advancedSearchResult?PIId=&PIFirstName=James&PILastName=Riely&IncludeCoPI=true&PIOrganization=&PIState=&PIZip=&PICountry=&ProgOrganization=&ProgEleCode=&BooleanElement=All&ProgRefCode=&BooleanRef=All&Program=&ProgOfficer\n",
      "  http://portal.core.edu.au/conf-ranks/\n",
      "  https://kanalregister.hkdir.no/Forside?request_locale=en\n",
      "  https://reed.cs.depaul.edu/jriely/ds1/index.html\n",
      "  https://reed.cs.depaul.edu/jriely/447/index.html\n",
      "  https://reed.cs.depaul.edu/jriely/visualization\n",
      "  https://reed.cs.depaul.edu/jriely/ds1/index.html\n",
      "  https://reed.cs.depaul.edu/jriely/ds2/index.html\n",
      "  https://reed.cs.depaul.edu/jriely/360/index.html\n",
      "  https://reed.cs.depaul.edu/jriely/373/index.html\n",
      "  https://reed.cs.depaul.edu/jriely/444/index.html\n",
      "  https://reed.cs.depaul.edu/jriely/436/index.html\n",
      "  https://reed.cs.depaul.edu/jriely/448/index.html\n",
      "  https://reed.cs.depaul.edu/jriely/535/index.html\n",
      "  https://reed.cs.depaul.edu/jriely/450/index.html\n",
      "  https://reed.cs.depaul.edu/jriely/547/index.html\n",
      "  https://reed.cs.depaul.edu/jriely/evals/index.html\n",
      "  http://www.ratemyprofessors.com/ShowRatings.jsp?tid=366761\n",
      "  https://sites.google.com/site/gcasrworkshop/\n",
      "  https://google.com/search?q='midwest+pl+summit'\n",
      "  https://ceric.ca/wp-content/uploads/2018/06/Computing-Disciplines-A-Quick-Guide-for-Prospective-Students-and-Career-Advisors.pdf\n",
      "  http://www.cdm.depaul.edu/about/Pages/School-of-Computing.aspx#graduate\n",
      "  http://www.cdm.depaul.edu/academics/Pages/Current/Requirements-MS-in-Computer-Science.aspx\n",
      "  http://www.cdm.depaul.edu/academics/Pages/Current/Requirements-MS-SE-Software-Development.aspx\n",
      "  http://www.cdm.depaul.edu/academics/Pages/Current/Requirements-MS-CINS-Computer-Security.aspx\n",
      "  http://www.cdm.depaul.edu/academics/Pages/Current/Requirements-MS-in-Human-Computer-Interaction.aspx\n",
      "  http://www.cdm.depaul.edu/academics/Pages/Current/Requirements-MS-IS-Standard.aspx\n",
      "  http://www.cdm.depaul.edu/academics/Pages/Current/Requirements-MS-E-Commerce-Technology.aspx\n",
      "  http://www.cdm.depaul.edu/academics/Pages/Current/Requirements-MS-In-Predictive-Analytics-Computational.aspx\n",
      "  http://www.cdm.depaul.edu/academics/Pages/Current/Requirements-MS-In-Game-Programming.aspx\n",
      "  http://facweb.cs.depaul.edu/andre/GAM%20degrees.html\n",
      "  http://www.cdm.depaul.edu/gae\n",
      "  https://www.cdm.depaul.edu/Current%20Students/Pages/InternshipsandCOOPs.aspx\n",
      "  http://www.cdm.depaul.edu/about/Pages/School-of-Computing.aspx#undergraduate\n",
      "  http://www.cdm.depaul.edu/academics/Pages/Current/Requirements-BS-In-Computer-Science-Software-Development.aspx\n",
      "  http://www.cdm.depaul.edu/academics/Pages/Current/Requirements-BS-in-Information-Technology-Web-Development.aspx\n",
      "  http://www.cdm.depaul.edu/academics/Pages/2016/Requirements-BS-in-IASE.aspx\n",
      "  http://www.cdm.depaul.edu/academics/Pages/Current/Requirements-BS-Network-Engineering-and-Security.aspx\n",
      "  http://www.cdm.depaul.edu/academics/Pages/Current/Requirements-BS-in-Interactive-Media-Development.aspx\n",
      "  http://www.cdm.depaul.edu/academics/Pages/Current/Requirements-BS-Information-Systems.aspx\n",
      "  http://www.cdm.depaul.edu/academics/Pages/Current/Requirements-BS-in-Math-Computer-Science.aspx\n",
      "  http://facweb.cs.depaul.edu/andre/GAM%20degrees.html\n",
      "  http://www.cdm.depaul.edu/academics/Pages/Current/UndergraduateMinors.aspx\n",
      "  http://academics.depaul.edu/liberal-studies/\n",
      "  https://www.cdm.depaul.edu/Current%20Students/Pages/InternshipsandCOOPs.aspx\n",
      "  http://www.cdm.depaul.edu/academics/Pages/CombinedDegrees.aspx\n",
      "  http://www.cdm.depaul.edu/academics/Pages/CourseSchedule.aspx?department=CSC\n",
      "  http://dpu.unofficialtools.com/\n",
      "  http://mocksched.com\n",
      "  http://www.depaul.edu/admission-and-aid/test-credit-and-placement/credit-given-by-exam/Pages/ap.aspx\n",
      "  http://careercenter.depaul.edu/advice/cdm.aspx\n",
      "  http://careercenter.depaul.edu/jobs/internships.aspx\n",
      "  http://careercenter.depaul.edu/results\n",
      "  http://www.computerscienceonline.org/careers/\n",
      "  http://www.chicagoacm.org/\n",
      "  http://computer-science.meetup.com/cities/us/il/chicago/\n",
      "  http://computer-programming.meetup.com/cities/us/il/chicago/\n",
      "  https://my.cdm.depaul.edu/CTI/advising/display.asp?tab=faculty&page=rosters\n",
      "  https://docs.cdm.depaul.edu/committees/PC-CS/SitePages/Home.aspx?SortField=Modified&SortDir=Dsc\n",
      "  https://teams.depaul.edu/committees/faculty-council\n",
      "  https://teams.depaul.edu/committees/faculty-council/coolteam/SitePages/Home.aspx\n",
      "  https://teams.depaul.edu/committees/faculty-council/capteam/SitePages/Home.aspx\n",
      "  https://resources.depaul.edu/teaching-commons/\n",
      "  http://offices.depaul.edu/fits/\n",
      "  https://cs.uchicago.edu/page/distinguished-lecture-series\n",
      "  https://www.cs.uic.edu/bin/view/Main/Seminars\n",
      "  http://learntocodewith.me/posts/code-for-free/\n",
      "  https://www.class-central.com/subject/cs?sort=rating-up&lang=english\n",
      "  https://egghead.io/browse/frameworks\n",
      "  https://www.agilelearner.com/presentation/bydate\n",
      "  https://www.codewars.com/\n",
      "  https://www.freecodecamp.com\n",
      "  https://www.codecademy.com\n",
      "  https://www.coursera.org/browse/computer-science\n",
      "  https://www.udacity.com/courses/all\n",
      "  https://www.edx.org/course/subject/computer-science\n"
     ]
    }
   ],
   "source": [
    "url_list = []\n",
    "\n",
    "\n",
    "def webdir(url, depth, indent):\n",
    "    print((\" \" * indent) + url)\n",
    "\n",
    "    if depth <= 0 or url in url_list:\n",
    "        return\n",
    "\n",
    "    else:\n",
    "        url_list.append(url)\n",
    "\n",
    "    try:\n",
    "        URL_resource = urlopen(url)\n",
    "        URL_content = URL_resource.read().decode()\n",
    "        collector_obj = My_Collector(url)\n",
    "        collector_obj.feed(URL_content)\n",
    "\n",
    "        for link in collector_obj.get_links():\n",
    "            webdir(link, depth - 1, indent + 1)\n",
    "\n",
    "    except:\n",
    "        print(\"Error with URL: \" + url)\n",
    "\n",
    "\n",
    "webdir(\"https://reed.cs.depaul.edu/index.html\", 2, 0)"
   ]
  },
  {
   "cell_type": "markdown",
   "metadata": {},
   "source": [
    "### **Q8.**"
   ]
  },
  {
   "cell_type": "code",
   "execution_count": null,
   "metadata": {},
   "outputs": [],
   "source": [
    "'''\n",
    "City    Country         Season  Temperature  Rainfall\n",
    "Mumbai  India           Winter  24.8         5.9\n",
    "Mumbai  India           Spring  28.4         16.2\n",
    "Mumbai  India           Summer  27.9         1549.4\n",
    "Mumbai  India           Fall    27.6         346.0\n",
    "London  United Kingdom  Winter  4.2          207.7\n",
    "London  United Kingdom  Spring  8.3          169.6\n",
    "London  United Kingdom  Summer  15.7         157.0\n",
    "London  United Kingdom  Fall    10.4         218.5\n",
    "Cairo   Egypt           Winter  13.6         16.5\n",
    "Cairo   Egypt           Spring  20.7         6.5\n",
    "Cairo   Egypt           Summer  27.7         0.1\n",
    "Cairo   Egypt           Fall    22.2         4.5\n",
    "'''"
   ]
  },
  {
   "cell_type": "code",
   "execution_count": 1,
   "metadata": {},
   "outputs": [],
   "source": [
    "import sqlite3\n",
    "\n",
    "# Establishing connection\n",
    "con = sqlite3.connect(\"information_table.db\")  # Creating a database called 'midterms.db'\n",
    "cur = con.cursor()\n",
    "\n",
    "# Creating Table \n",
    "cur.execute('''\n",
    "            CREATE TABLE Information (\n",
    "                City text, \n",
    "                Country text, \n",
    "                Season text,\n",
    "                'Temperature' real,\n",
    "                'Rainfall' real\n",
    "            )''')\n",
    "\n",
    "# Values to Insert\n",
    "record_1 = (\"Mumbai\", \"India\", \"Winter\", 24.8, 5.9)\n",
    "record_2 = (\"Mumbai\", \"India\", \"Spring\", 28.4, 16.2)\n",
    "record_3 = (\"Mumbai\", \"India\", \"Summer\", 27.9, 1549.4)\n",
    "record_4 = (\"Mumbai\", \"India\", \"Fall\", 27.6, 346.0)\n",
    "record_5 = (\"London\", \"United Kingdom\", \"Winter\", 4.2, 207.7)\n",
    "record_6 = (\"London\", \"United Kingdom\", \"Spring\", 8.3, 169.6)\n",
    "record_7 = (\"London\", \"United Kingdom\", \"Summer\", 15.7, 157.0)\n",
    "record_8 = (\"London\", \"United Kingdom\", \"Fall\", 10.4,  218.5)\n",
    "record_9 = (\"Cairo\",  \"Egypt\", \"Winter\", 13.6, 16.5)\n",
    "record_10 = (\"Cairo\",  \"Egypt\", \"Spring\", 20.7, 6.5)\n",
    "record_11 = (\"Cairo\",  \"Egypt\", \"Summer\", 27.7, 0.1)\n",
    "record_12 = (\"Cairo\",  \"Egypt\", \"Fall\", 22.2, 4.5)\n",
    "\n",
    "# Inserting Values\n",
    "cur.execute(\"INSERT INTO Information VALUES (?, ?, ?, ?, ?)\", record_1)\n",
    "cur.execute(\"INSERT INTO Information VALUES (?, ?, ?, ?, ?)\", record_2)\n",
    "cur.execute(\"INSERT INTO Information VALUES (?, ?, ?, ?, ?)\", record_3)\n",
    "cur.execute(\"INSERT INTO Information VALUES (?, ?, ?, ?, ?)\", record_4)\n",
    "cur.execute(\"INSERT INTO Information VALUES (?, ?, ?, ?, ?)\", record_5)\n",
    "cur.execute(\"INSERT INTO Information VALUES (?, ?, ?, ?, ?)\", record_6)\n",
    "cur.execute(\"INSERT INTO Information VALUES (?, ?, ?, ?, ?)\", record_7)\n",
    "cur.execute(\"INSERT INTO Information VALUES (?, ?, ?, ?, ?)\", record_8)\n",
    "cur.execute(\"INSERT INTO Information VALUES (?, ?, ?, ?, ?)\", record_9)\n",
    "cur.execute(\"INSERT INTO Information VALUES (?, ?, ?, ?, ?)\", record_10)\n",
    "cur.execute(\"INSERT INTO Information VALUES (?, ?, ?, ?, ?)\", record_11)\n",
    "cur.execute(\"INSERT INTO Information VALUES (?, ?, ?, ?, ?)\", record_12)\n",
    "\n",
    "# Saving Changes\n",
    "con.commit()\n",
    "\n",
    "# Closing Connection\n",
    "con.close()"
   ]
  },
  {
   "cell_type": "code",
   "execution_count": 24,
   "metadata": {},
   "outputs": [],
   "source": [
    "def my_sql_funciton(execution_statement):\n",
    "    # Querying the newly created database\n",
    "\n",
    "    # Establishing connection\n",
    "    con = sqlite3.connect(\"information_table.db\")\n",
    "    cur = con.cursor()\n",
    "\n",
    "    records = cur.execute(execution_statement)\n",
    "\n",
    "    for record in records:\n",
    "        print(record)\n",
    "\n",
    "    # Saving Changes\n",
    "    con.commit()\n",
    "\n",
    "    # Closing Connection\n",
    "    con.close()"
   ]
  },
  {
   "cell_type": "markdown",
   "metadata": {},
   "source": [
    "### **Q8.** *a*"
   ]
  },
  {
   "cell_type": "code",
   "execution_count": 14,
   "metadata": {},
   "outputs": [
    {
     "name": "stdout",
     "output_type": "stream",
     "text": [
      "('Mumbai', 'India', 'Winter', 24.8, 5.9)\n",
      "('Mumbai', 'India', 'Spring', 28.4, 16.2)\n",
      "('Mumbai', 'India', 'Summer', 27.9, 1549.4)\n",
      "('Mumbai', 'India', 'Fall', 27.6, 346.0)\n",
      "('London', 'United Kingdom', 'Winter', 4.2, 207.7)\n",
      "('London', 'United Kingdom', 'Spring', 8.3, 169.6)\n",
      "('London', 'United Kingdom', 'Summer', 15.7, 157.0)\n",
      "('London', 'United Kingdom', 'Fall', 10.4, 218.5)\n",
      "('Cairo', 'Egypt', 'Winter', 13.6, 16.5)\n",
      "('Cairo', 'Egypt', 'Spring', 20.7, 6.5)\n",
      "('Cairo', 'Egypt', 'Summer', 27.7, 0.1)\n",
      "('Cairo', 'Egypt', 'Fall', 22.2, 4.5)\n"
     ]
    }
   ],
   "source": [
    "sql_statement = '''\n",
    "                SELECT * FROM Information\n",
    "                '''\n",
    "my_sql_funciton(sql_statement)"
   ]
  },
  {
   "cell_type": "markdown",
   "metadata": {},
   "source": [
    "### **Q8.** *b*"
   ]
  },
  {
   "cell_type": "code",
   "execution_count": 15,
   "metadata": {},
   "outputs": [
    {
     "name": "stdout",
     "output_type": "stream",
     "text": [
      "('Mumbai',)\n",
      "('London',)\n",
      "('Cairo',)\n"
     ]
    }
   ],
   "source": [
    "sql_statement = '''\n",
    "                SELECT DISTINCT City FROM Information\n",
    "                '''\n",
    "my_sql_funciton(sql_statement)"
   ]
  },
  {
   "cell_type": "markdown",
   "metadata": {},
   "source": [
    "### **Q8.** *c*"
   ]
  },
  {
   "cell_type": "code",
   "execution_count": 16,
   "metadata": {},
   "outputs": [
    {
     "name": "stdout",
     "output_type": "stream",
     "text": [
      "('Mumbai', 'India', 'Winter', 24.8, 5.9)\n",
      "('Mumbai', 'India', 'Spring', 28.4, 16.2)\n",
      "('Mumbai', 'India', 'Summer', 27.9, 1549.4)\n",
      "('Mumbai', 'India', 'Fall', 27.6, 346.0)\n"
     ]
    }
   ],
   "source": [
    "sql_statement = '''\n",
    "                SELECT * FROM Information\n",
    "                WHERE Country = \"India\"\n",
    "                '''\n",
    "my_sql_funciton(sql_statement)"
   ]
  },
  {
   "cell_type": "markdown",
   "metadata": {},
   "source": [
    "### **Q8.** *d*"
   ]
  },
  {
   "cell_type": "code",
   "execution_count": 17,
   "metadata": {},
   "outputs": [
    {
     "name": "stdout",
     "output_type": "stream",
     "text": [
      "('Mumbai', 'India', 'Fall', 27.6, 346.0)\n",
      "('London', 'United Kingdom', 'Fall', 10.4, 218.5)\n",
      "('Cairo', 'Egypt', 'Fall', 22.2, 4.5)\n"
     ]
    }
   ],
   "source": [
    "sql_statement = '''\n",
    "                SELECT * FROM Information\n",
    "                WHERE Season = \"Fall\"\n",
    "                '''\n",
    "my_sql_funciton(sql_statement)"
   ]
  },
  {
   "cell_type": "markdown",
   "metadata": {},
   "source": [
    "### **Q8.** *e*"
   ]
  },
  {
   "cell_type": "code",
   "execution_count": 18,
   "metadata": {},
   "outputs": [
    {
     "name": "stdout",
     "output_type": "stream",
     "text": [
      "('Mumbai', 'India', 'Fall')\n",
      "('London', 'United Kingdom', 'Winter')\n",
      "('London', 'United Kingdom', 'Fall')\n"
     ]
    }
   ],
   "source": [
    "sql_statement = '''\n",
    "                SELECT City, Country, Season FROM Information\n",
    "                WHERE Rainfall BETWEEN 200 and 400\n",
    "                '''\n",
    "my_sql_funciton(sql_statement)"
   ]
  },
  {
   "cell_type": "markdown",
   "metadata": {},
   "source": [
    "### **Q8.** *f*"
   ]
  },
  {
   "cell_type": "code",
   "execution_count": 19,
   "metadata": {},
   "outputs": [
    {
     "name": "stdout",
     "output_type": "stream",
     "text": [
      "('Cairo', 'Egypt')\n",
      "('Cairo', 'Egypt')\n",
      "('Mumbai', 'India')\n",
      "('Mumbai', 'India')\n",
      "('Cairo', 'Egypt')\n",
      "('Mumbai', 'India')\n",
      "('Mumbai', 'India')\n"
     ]
    }
   ],
   "source": [
    "sql_statement = '''\n",
    "                    SELECT City, Country FROM Information\n",
    "                    WHERE Temperature > 20\n",
    "                    ORDER BY Temperature\n",
    "                '''\n",
    "my_sql_funciton(sql_statement)"
   ]
  },
  {
   "cell_type": "markdown",
   "metadata": {},
   "source": [
    "### **Q8.** *g*"
   ]
  },
  {
   "cell_type": "code",
   "execution_count": 25,
   "metadata": {},
   "outputs": [
    {
     "name": "stdout",
     "output_type": "stream",
     "text": [
      "(27.6,)\n"
     ]
    }
   ],
   "source": [
    "sql_statement = '''\n",
    "                    SELECT Sum(Rainfall) FROM Information\n",
    "                    WHERE City = \"Cairo\"\n",
    "                '''\n",
    "my_sql_funciton(sql_statement)"
   ]
  },
  {
   "cell_type": "markdown",
   "metadata": {},
   "source": [
    "### **Q8.** *h*"
   ]
  },
  {
   "cell_type": "code",
   "execution_count": 48,
   "metadata": {},
   "outputs": [
    {
     "name": "stdout",
     "output_type": "stream",
     "text": [
      "('Fall', 569.0)\n",
      "('Spring', 192.29999999999998)\n",
      "('Summer', 1706.5)\n",
      "('Winter', 230.1)\n"
     ]
    }
   ],
   "source": [
    "sql_statement = '''\n",
    "                    SELECT Season, SUM(Rainfall) FROM Information\n",
    "                    GROUP BY Season\n",
    "                '''\n",
    "my_sql_funciton(sql_statement)"
   ]
  },
  {
   "cell_type": "markdown",
   "metadata": {},
   "source": [
    "### **Q9.**"
   ]
  },
  {
   "cell_type": "code",
   "execution_count": 1,
   "metadata": {},
   "outputs": [],
   "source": [
    "words = ['The', 'quick', 'brown', 'fox', 'jumps', 'over', 'the', 'lazy', 'dog']"
   ]
  },
  {
   "cell_type": "markdown",
   "metadata": {},
   "source": [
    "### **Q9.** *a*"
   ]
  },
  {
   "cell_type": "code",
   "execution_count": 2,
   "metadata": {},
   "outputs": [
    {
     "data": {
      "text/plain": [
       "['THE', 'QUICK', 'BROWN', 'FOX', 'JUMPS', 'OVER', 'THE', 'LAZY', 'DOG']"
      ]
     },
     "execution_count": 2,
     "metadata": {},
     "output_type": "execute_result"
    }
   ],
   "source": [
    "a_new_words_list = []\n",
    "\n",
    "for word in words:\n",
    "    a_new_words_list.append(word.upper())\n",
    "\n",
    "a_new_words_list"
   ]
  },
  {
   "cell_type": "markdown",
   "metadata": {},
   "source": [
    "### **Q9.** *b*"
   ]
  },
  {
   "cell_type": "code",
   "execution_count": 4,
   "metadata": {},
   "outputs": [
    {
     "data": {
      "text/plain": [
       "['the', 'quick', 'brown', 'fox', 'jumps', 'over', 'the', 'lazy', 'dog']"
      ]
     },
     "execution_count": 4,
     "metadata": {},
     "output_type": "execute_result"
    }
   ],
   "source": [
    "b_new_words_list = []\n",
    "\n",
    "for word in words:\n",
    "    b_new_words_list.append(word.lower())\n",
    "\n",
    "b_new_words_list"
   ]
  },
  {
   "cell_type": "markdown",
   "metadata": {},
   "source": [
    "### **Q9.** *c*"
   ]
  },
  {
   "cell_type": "code",
   "execution_count": 5,
   "metadata": {},
   "outputs": [
    {
     "data": {
      "text/plain": [
       "[3, 5, 5, 3, 5, 4, 3, 4, 3]"
      ]
     },
     "execution_count": 5,
     "metadata": {},
     "output_type": "execute_result"
    }
   ],
   "source": [
    "c_new_words_list = []\n",
    "\n",
    "for word in words:\n",
    "    c_new_words_list.append(len(word))\n",
    "\n",
    "c_new_words_list"
   ]
  },
  {
   "cell_type": "markdown",
   "metadata": {},
   "source": [
    "### **Q9.** *d*"
   ]
  },
  {
   "cell_type": "code",
   "execution_count": 6,
   "metadata": {},
   "outputs": [
    {
     "data": {
      "text/plain": [
       "[['THE', 'the', 3],\n",
       " ['QUICK', 'quick', 5],\n",
       " ['BROWN', 'brown', 5],\n",
       " ['FOX', 'fox', 3],\n",
       " ['JUMPS', 'jumps', 5],\n",
       " ['OVER', 'over', 4],\n",
       " ['THE', 'the', 3],\n",
       " ['LAZY', 'lazy', 4],\n",
       " ['DOG', 'dog', 3]]"
      ]
     },
     "execution_count": 6,
     "metadata": {},
     "output_type": "execute_result"
    }
   ],
   "source": [
    "d_new_words_list = []\n",
    "\n",
    "for word in words:\n",
    "    d_new_words_list.append([word.upper(), word.lower(), len(word)])\n",
    "\n",
    "d_new_words_list"
   ]
  },
  {
   "cell_type": "markdown",
   "metadata": {},
   "source": [
    "### **Q9.** *e*"
   ]
  },
  {
   "cell_type": "code",
   "execution_count": 8,
   "metadata": {},
   "outputs": [
    {
     "data": {
      "text/plain": [
       "['quick', 'brown', 'jumps']"
      ]
     },
     "execution_count": 8,
     "metadata": {},
     "output_type": "execute_result"
    }
   ],
   "source": [
    "e_new_words_list = []\n",
    "\n",
    "for word in words:\n",
    "    if len(word) > 4:\n",
    "        e_new_words_list.append(word)\n",
    "\n",
    "e_new_words_list"
   ]
  }
 ],
 "metadata": {
  "kernelspec": {
   "display_name": "Python 3.9.2 64-bit",
   "language": "python",
   "name": "python3"
  },
  "language_info": {
   "codemirror_mode": {
    "name": "ipython",
    "version": 3
   },
   "file_extension": ".py",
   "mimetype": "text/x-python",
   "name": "python",
   "nbconvert_exporter": "python",
   "pygments_lexer": "ipython3",
   "version": "3.9.2"
  },
  "orig_nbformat": 4,
  "vscode": {
   "interpreter": {
    "hash": "9e3bfd5707cea17bcbe380e30b983be31a9c4e73ed42697506103186bbe325e5"
   }
  }
 },
 "nbformat": 4,
 "nbformat_minor": 2
}
